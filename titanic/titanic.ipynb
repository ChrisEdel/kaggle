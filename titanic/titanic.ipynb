{
 "cells": [
  {
   "cell_type": "code",
   "execution_count": 251,
   "id": "262a01a4",
   "metadata": {
    "pycharm": {
     "is_executing": true,
     "name": "#%%\n"
    }
   },
   "outputs": [],
   "source": [
    "import numpy as np\n",
    "import pandas as pd\n",
    "import tensorflow as tf"
   ]
  },
  {
   "cell_type": "code",
   "execution_count": 252,
   "id": "9f38f0e6",
   "metadata": {},
   "outputs": [
    {
     "name": "stdout",
     "output_type": "stream",
     "text": [
      "TensorFlow has access to the following devices:\n",
      "[PhysicalDevice(name='/physical_device:CPU:0', device_type='CPU'), PhysicalDevice(name='/physical_device:GPU:0', device_type='GPU')]\n",
      "TensorFlow version: 2.8.0\n"
     ]
    }
   ],
   "source": [
    "# Check for TensorFlow GPU access\n",
    "print(f\"TensorFlow has access to the following devices:\\n{tf.config.list_physical_devices()}\")\n",
    "\n",
    "# See TensorFlow version\n",
    "print(f\"TensorFlow version: {tf.__version__}\")"
   ]
  },
  {
   "cell_type": "code",
   "execution_count": 253,
   "id": "e9581ba3",
   "metadata": {},
   "outputs": [],
   "source": [
    "df_train = pd.read_csv('data/train.csv')\n",
    "df_test = pd.read_csv('data/test.csv')"
   ]
  },
  {
   "cell_type": "code",
   "execution_count": 254,
   "id": "5a6c9a9a",
   "metadata": {},
   "outputs": [
    {
     "data": {
      "text/plain": [
       "(891, 12)"
      ]
     },
     "execution_count": 254,
     "metadata": {},
     "output_type": "execute_result"
    }
   ],
   "source": [
    "# Inspecting the training data\n",
    "df_train.shape"
   ]
  },
  {
   "cell_type": "code",
   "execution_count": 255,
   "id": "b3df716d",
   "metadata": {},
   "outputs": [
    {
     "data": {
      "text/html": [
       "<div>\n",
       "<style scoped>\n",
       "    .dataframe tbody tr th:only-of-type {\n",
       "        vertical-align: middle;\n",
       "    }\n",
       "\n",
       "    .dataframe tbody tr th {\n",
       "        vertical-align: top;\n",
       "    }\n",
       "\n",
       "    .dataframe thead th {\n",
       "        text-align: right;\n",
       "    }\n",
       "</style>\n",
       "<table border=\"1\" class=\"dataframe\">\n",
       "  <thead>\n",
       "    <tr style=\"text-align: right;\">\n",
       "      <th></th>\n",
       "      <th>PassengerId</th>\n",
       "      <th>Survived</th>\n",
       "      <th>Pclass</th>\n",
       "      <th>Name</th>\n",
       "      <th>Sex</th>\n",
       "      <th>Age</th>\n",
       "      <th>SibSp</th>\n",
       "      <th>Parch</th>\n",
       "      <th>Ticket</th>\n",
       "      <th>Fare</th>\n",
       "      <th>Cabin</th>\n",
       "      <th>Embarked</th>\n",
       "    </tr>\n",
       "  </thead>\n",
       "  <tbody>\n",
       "    <tr>\n",
       "      <th>0</th>\n",
       "      <td>1</td>\n",
       "      <td>0</td>\n",
       "      <td>3</td>\n",
       "      <td>Braund, Mr. Owen Harris</td>\n",
       "      <td>male</td>\n",
       "      <td>22.0</td>\n",
       "      <td>1</td>\n",
       "      <td>0</td>\n",
       "      <td>A/5 21171</td>\n",
       "      <td>7.2500</td>\n",
       "      <td>NaN</td>\n",
       "      <td>S</td>\n",
       "    </tr>\n",
       "    <tr>\n",
       "      <th>1</th>\n",
       "      <td>2</td>\n",
       "      <td>1</td>\n",
       "      <td>1</td>\n",
       "      <td>Cumings, Mrs. John Bradley (Florence Briggs Th...</td>\n",
       "      <td>female</td>\n",
       "      <td>38.0</td>\n",
       "      <td>1</td>\n",
       "      <td>0</td>\n",
       "      <td>PC 17599</td>\n",
       "      <td>71.2833</td>\n",
       "      <td>C85</td>\n",
       "      <td>C</td>\n",
       "    </tr>\n",
       "    <tr>\n",
       "      <th>2</th>\n",
       "      <td>3</td>\n",
       "      <td>1</td>\n",
       "      <td>3</td>\n",
       "      <td>Heikkinen, Miss. Laina</td>\n",
       "      <td>female</td>\n",
       "      <td>26.0</td>\n",
       "      <td>0</td>\n",
       "      <td>0</td>\n",
       "      <td>STON/O2. 3101282</td>\n",
       "      <td>7.9250</td>\n",
       "      <td>NaN</td>\n",
       "      <td>S</td>\n",
       "    </tr>\n",
       "    <tr>\n",
       "      <th>3</th>\n",
       "      <td>4</td>\n",
       "      <td>1</td>\n",
       "      <td>1</td>\n",
       "      <td>Futrelle, Mrs. Jacques Heath (Lily May Peel)</td>\n",
       "      <td>female</td>\n",
       "      <td>35.0</td>\n",
       "      <td>1</td>\n",
       "      <td>0</td>\n",
       "      <td>113803</td>\n",
       "      <td>53.1000</td>\n",
       "      <td>C123</td>\n",
       "      <td>S</td>\n",
       "    </tr>\n",
       "    <tr>\n",
       "      <th>4</th>\n",
       "      <td>5</td>\n",
       "      <td>0</td>\n",
       "      <td>3</td>\n",
       "      <td>Allen, Mr. William Henry</td>\n",
       "      <td>male</td>\n",
       "      <td>35.0</td>\n",
       "      <td>0</td>\n",
       "      <td>0</td>\n",
       "      <td>373450</td>\n",
       "      <td>8.0500</td>\n",
       "      <td>NaN</td>\n",
       "      <td>S</td>\n",
       "    </tr>\n",
       "  </tbody>\n",
       "</table>\n",
       "</div>"
      ],
      "text/plain": [
       "   PassengerId  Survived  Pclass  \\\n",
       "0            1         0       3   \n",
       "1            2         1       1   \n",
       "2            3         1       3   \n",
       "3            4         1       1   \n",
       "4            5         0       3   \n",
       "\n",
       "                                                Name     Sex   Age  SibSp  \\\n",
       "0                            Braund, Mr. Owen Harris    male  22.0      1   \n",
       "1  Cumings, Mrs. John Bradley (Florence Briggs Th...  female  38.0      1   \n",
       "2                             Heikkinen, Miss. Laina  female  26.0      0   \n",
       "3       Futrelle, Mrs. Jacques Heath (Lily May Peel)  female  35.0      1   \n",
       "4                           Allen, Mr. William Henry    male  35.0      0   \n",
       "\n",
       "   Parch            Ticket     Fare Cabin Embarked  \n",
       "0      0         A/5 21171   7.2500   NaN        S  \n",
       "1      0          PC 17599  71.2833   C85        C  \n",
       "2      0  STON/O2. 3101282   7.9250   NaN        S  \n",
       "3      0            113803  53.1000  C123        S  \n",
       "4      0            373450   8.0500   NaN        S  "
      ]
     },
     "execution_count": 255,
     "metadata": {},
     "output_type": "execute_result"
    }
   ],
   "source": [
    "df_train.head()"
   ]
  },
  {
   "cell_type": "code",
   "execution_count": 256,
   "id": "5a8f85c7",
   "metadata": {},
   "outputs": [
    {
     "data": {
      "text/html": [
       "<div>\n",
       "<style scoped>\n",
       "    .dataframe tbody tr th:only-of-type {\n",
       "        vertical-align: middle;\n",
       "    }\n",
       "\n",
       "    .dataframe tbody tr th {\n",
       "        vertical-align: top;\n",
       "    }\n",
       "\n",
       "    .dataframe thead th {\n",
       "        text-align: right;\n",
       "    }\n",
       "</style>\n",
       "<table border=\"1\" class=\"dataframe\">\n",
       "  <thead>\n",
       "    <tr style=\"text-align: right;\">\n",
       "      <th></th>\n",
       "      <th>PassengerId</th>\n",
       "      <th>Survived</th>\n",
       "      <th>Pclass</th>\n",
       "      <th>Name</th>\n",
       "      <th>Sex</th>\n",
       "      <th>Age</th>\n",
       "      <th>SibSp</th>\n",
       "      <th>Parch</th>\n",
       "      <th>Ticket</th>\n",
       "      <th>Fare</th>\n",
       "      <th>Cabin</th>\n",
       "      <th>Embarked</th>\n",
       "    </tr>\n",
       "  </thead>\n",
       "  <tbody>\n",
       "    <tr>\n",
       "      <th>886</th>\n",
       "      <td>887</td>\n",
       "      <td>0</td>\n",
       "      <td>2</td>\n",
       "      <td>Montvila, Rev. Juozas</td>\n",
       "      <td>male</td>\n",
       "      <td>27.0</td>\n",
       "      <td>0</td>\n",
       "      <td>0</td>\n",
       "      <td>211536</td>\n",
       "      <td>13.00</td>\n",
       "      <td>NaN</td>\n",
       "      <td>S</td>\n",
       "    </tr>\n",
       "    <tr>\n",
       "      <th>887</th>\n",
       "      <td>888</td>\n",
       "      <td>1</td>\n",
       "      <td>1</td>\n",
       "      <td>Graham, Miss. Margaret Edith</td>\n",
       "      <td>female</td>\n",
       "      <td>19.0</td>\n",
       "      <td>0</td>\n",
       "      <td>0</td>\n",
       "      <td>112053</td>\n",
       "      <td>30.00</td>\n",
       "      <td>B42</td>\n",
       "      <td>S</td>\n",
       "    </tr>\n",
       "    <tr>\n",
       "      <th>888</th>\n",
       "      <td>889</td>\n",
       "      <td>0</td>\n",
       "      <td>3</td>\n",
       "      <td>Johnston, Miss. Catherine Helen \"Carrie\"</td>\n",
       "      <td>female</td>\n",
       "      <td>NaN</td>\n",
       "      <td>1</td>\n",
       "      <td>2</td>\n",
       "      <td>W./C. 6607</td>\n",
       "      <td>23.45</td>\n",
       "      <td>NaN</td>\n",
       "      <td>S</td>\n",
       "    </tr>\n",
       "    <tr>\n",
       "      <th>889</th>\n",
       "      <td>890</td>\n",
       "      <td>1</td>\n",
       "      <td>1</td>\n",
       "      <td>Behr, Mr. Karl Howell</td>\n",
       "      <td>male</td>\n",
       "      <td>26.0</td>\n",
       "      <td>0</td>\n",
       "      <td>0</td>\n",
       "      <td>111369</td>\n",
       "      <td>30.00</td>\n",
       "      <td>C148</td>\n",
       "      <td>C</td>\n",
       "    </tr>\n",
       "    <tr>\n",
       "      <th>890</th>\n",
       "      <td>891</td>\n",
       "      <td>0</td>\n",
       "      <td>3</td>\n",
       "      <td>Dooley, Mr. Patrick</td>\n",
       "      <td>male</td>\n",
       "      <td>32.0</td>\n",
       "      <td>0</td>\n",
       "      <td>0</td>\n",
       "      <td>370376</td>\n",
       "      <td>7.75</td>\n",
       "      <td>NaN</td>\n",
       "      <td>Q</td>\n",
       "    </tr>\n",
       "  </tbody>\n",
       "</table>\n",
       "</div>"
      ],
      "text/plain": [
       "     PassengerId  Survived  Pclass                                      Name  \\\n",
       "886          887         0       2                     Montvila, Rev. Juozas   \n",
       "887          888         1       1              Graham, Miss. Margaret Edith   \n",
       "888          889         0       3  Johnston, Miss. Catherine Helen \"Carrie\"   \n",
       "889          890         1       1                     Behr, Mr. Karl Howell   \n",
       "890          891         0       3                       Dooley, Mr. Patrick   \n",
       "\n",
       "        Sex   Age  SibSp  Parch      Ticket   Fare Cabin Embarked  \n",
       "886    male  27.0      0      0      211536  13.00   NaN        S  \n",
       "887  female  19.0      0      0      112053  30.00   B42        S  \n",
       "888  female   NaN      1      2  W./C. 6607  23.45   NaN        S  \n",
       "889    male  26.0      0      0      111369  30.00  C148        C  \n",
       "890    male  32.0      0      0      370376   7.75   NaN        Q  "
      ]
     },
     "execution_count": 256,
     "metadata": {},
     "output_type": "execute_result"
    }
   ],
   "source": [
    "df_train.tail()"
   ]
  },
  {
   "cell_type": "code",
   "execution_count": 257,
   "id": "763edd9b",
   "metadata": {},
   "outputs": [
    {
     "data": {
      "text/plain": [
       "PassengerId      int64\n",
       "Survived         int64\n",
       "Pclass           int64\n",
       "Name            object\n",
       "Sex             object\n",
       "Age            float64\n",
       "SibSp            int64\n",
       "Parch            int64\n",
       "Ticket          object\n",
       "Fare           float64\n",
       "Cabin           object\n",
       "Embarked        object\n",
       "dtype: object"
      ]
     },
     "execution_count": 257,
     "metadata": {},
     "output_type": "execute_result"
    }
   ],
   "source": [
    "df_train.dtypes"
   ]
  },
  {
   "cell_type": "code",
   "execution_count": 258,
   "id": "19019e7e",
   "metadata": {},
   "outputs": [
    {
     "data": {
      "text/plain": [
       "PassengerId    0.000000\n",
       "Survived       0.000000\n",
       "Pclass         0.000000\n",
       "Name           0.000000\n",
       "Sex            0.000000\n",
       "SibSp          0.000000\n",
       "Parch          0.000000\n",
       "Ticket         0.000000\n",
       "Fare           0.000000\n",
       "Embarked       0.002245\n",
       "Age            0.198653\n",
       "Cabin          0.771044\n",
       "dtype: float64"
      ]
     },
     "execution_count": 258,
     "metadata": {},
     "output_type": "execute_result"
    }
   ],
   "source": [
    "# Empty check\n",
    "df_train.isnull().sum().sort_values() / len(df_train)"
   ]
  },
  {
   "cell_type": "code",
   "execution_count": 259,
   "id": "7b33dac6",
   "metadata": {},
   "outputs": [],
   "source": [
    "# Delete rows without embarked values\n",
    "df_train = df_train[df_train['Embarked'].notna()]"
   ]
  },
  {
   "cell_type": "code",
   "execution_count": 260,
   "id": "b52e02da",
   "metadata": {},
   "outputs": [],
   "source": [
    "df_train['Age'].fillna(df_train['Age'].mean(), inplace = True)"
   ]
  },
  {
   "cell_type": "code",
   "execution_count": 261,
   "id": "5ba6ef52",
   "metadata": {},
   "outputs": [
    {
     "data": {
      "text/plain": [
       "PassengerId    0.000000\n",
       "Survived       0.000000\n",
       "Pclass         0.000000\n",
       "Name           0.000000\n",
       "Sex            0.000000\n",
       "Age            0.000000\n",
       "SibSp          0.000000\n",
       "Parch          0.000000\n",
       "Ticket         0.000000\n",
       "Fare           0.000000\n",
       "Embarked       0.000000\n",
       "Cabin          0.772778\n",
       "dtype: float64"
      ]
     },
     "execution_count": 261,
     "metadata": {},
     "output_type": "execute_result"
    }
   ],
   "source": [
    "df_train.isnull().sum().sort_values() / len(df_train)"
   ]
  },
  {
   "cell_type": "code",
   "execution_count": 262,
   "id": "84c4831c",
   "metadata": {},
   "outputs": [],
   "source": [
    "df_train['Sex'].replace(['female', 'male'], [0, 1], inplace = True)\n",
    "df_train['Embarked'].replace(['C', 'Q', 'S'], [0, 1, 2], inplace = True)"
   ]
  },
  {
   "cell_type": "code",
   "execution_count": 263,
   "id": "34e304c8",
   "metadata": {},
   "outputs": [],
   "source": [
    "df_train.drop(['Name', 'Cabin', 'Ticket', 'Sex', 'Embarked', 'PassengerId'], axis = 1, inplace = True)"
   ]
  },
  {
   "cell_type": "code",
   "execution_count": 264,
   "id": "e4d79d76",
   "metadata": {},
   "outputs": [
    {
     "data": {
      "text/plain": [
       "Survived      int64\n",
       "Pclass        int64\n",
       "Age         float64\n",
       "SibSp         int64\n",
       "Parch         int64\n",
       "Fare        float64\n",
       "dtype: object"
      ]
     },
     "execution_count": 264,
     "metadata": {},
     "output_type": "execute_result"
    }
   ],
   "source": [
    "df_train.dtypes"
   ]
  },
  {
   "cell_type": "code",
   "execution_count": 265,
   "id": "b0fde042",
   "metadata": {},
   "outputs": [
    {
     "data": {
      "text/html": [
       "<div>\n",
       "<style scoped>\n",
       "    .dataframe tbody tr th:only-of-type {\n",
       "        vertical-align: middle;\n",
       "    }\n",
       "\n",
       "    .dataframe tbody tr th {\n",
       "        vertical-align: top;\n",
       "    }\n",
       "\n",
       "    .dataframe thead th {\n",
       "        text-align: right;\n",
       "    }\n",
       "</style>\n",
       "<table border=\"1\" class=\"dataframe\">\n",
       "  <thead>\n",
       "    <tr style=\"text-align: right;\">\n",
       "      <th></th>\n",
       "      <th>Survived</th>\n",
       "      <th>Pclass</th>\n",
       "      <th>Age</th>\n",
       "      <th>SibSp</th>\n",
       "      <th>Parch</th>\n",
       "      <th>Fare</th>\n",
       "    </tr>\n",
       "  </thead>\n",
       "  <tbody>\n",
       "    <tr>\n",
       "      <th>0</th>\n",
       "      <td>0</td>\n",
       "      <td>3</td>\n",
       "      <td>22.0</td>\n",
       "      <td>1</td>\n",
       "      <td>0</td>\n",
       "      <td>7.2500</td>\n",
       "    </tr>\n",
       "    <tr>\n",
       "      <th>1</th>\n",
       "      <td>1</td>\n",
       "      <td>1</td>\n",
       "      <td>38.0</td>\n",
       "      <td>1</td>\n",
       "      <td>0</td>\n",
       "      <td>71.2833</td>\n",
       "    </tr>\n",
       "    <tr>\n",
       "      <th>2</th>\n",
       "      <td>1</td>\n",
       "      <td>3</td>\n",
       "      <td>26.0</td>\n",
       "      <td>0</td>\n",
       "      <td>0</td>\n",
       "      <td>7.9250</td>\n",
       "    </tr>\n",
       "    <tr>\n",
       "      <th>3</th>\n",
       "      <td>1</td>\n",
       "      <td>1</td>\n",
       "      <td>35.0</td>\n",
       "      <td>1</td>\n",
       "      <td>0</td>\n",
       "      <td>53.1000</td>\n",
       "    </tr>\n",
       "    <tr>\n",
       "      <th>4</th>\n",
       "      <td>0</td>\n",
       "      <td>3</td>\n",
       "      <td>35.0</td>\n",
       "      <td>0</td>\n",
       "      <td>0</td>\n",
       "      <td>8.0500</td>\n",
       "    </tr>\n",
       "  </tbody>\n",
       "</table>\n",
       "</div>"
      ],
      "text/plain": [
       "   Survived  Pclass   Age  SibSp  Parch     Fare\n",
       "0         0       3  22.0      1      0   7.2500\n",
       "1         1       1  38.0      1      0  71.2833\n",
       "2         1       3  26.0      0      0   7.9250\n",
       "3         1       1  35.0      1      0  53.1000\n",
       "4         0       3  35.0      0      0   8.0500"
      ]
     },
     "execution_count": 265,
     "metadata": {},
     "output_type": "execute_result"
    }
   ],
   "source": [
    "df_train.head()"
   ]
  },
  {
   "cell_type": "code",
   "execution_count": 266,
   "id": "ca57d95b",
   "metadata": {},
   "outputs": [],
   "source": [
    "x_train = df_train.drop('Survived', axis = 1).to_numpy()"
   ]
  },
  {
   "cell_type": "code",
   "execution_count": 267,
   "id": "a94dd2fb",
   "metadata": {},
   "outputs": [],
   "source": [
    "y_train = df_train['Survived'].to_numpy()"
   ]
  },
  {
   "cell_type": "code",
   "execution_count": 268,
   "id": "cc1dc803",
   "metadata": {},
   "outputs": [
    {
     "data": {
      "text/html": [
       "<div>\n",
       "<style scoped>\n",
       "    .dataframe tbody tr th:only-of-type {\n",
       "        vertical-align: middle;\n",
       "    }\n",
       "\n",
       "    .dataframe tbody tr th {\n",
       "        vertical-align: top;\n",
       "    }\n",
       "\n",
       "    .dataframe thead th {\n",
       "        text-align: right;\n",
       "    }\n",
       "</style>\n",
       "<table border=\"1\" class=\"dataframe\">\n",
       "  <thead>\n",
       "    <tr style=\"text-align: right;\">\n",
       "      <th></th>\n",
       "      <th>PassengerId</th>\n",
       "      <th>Pclass</th>\n",
       "      <th>Name</th>\n",
       "      <th>Sex</th>\n",
       "      <th>Age</th>\n",
       "      <th>SibSp</th>\n",
       "      <th>Parch</th>\n",
       "      <th>Ticket</th>\n",
       "      <th>Fare</th>\n",
       "      <th>Cabin</th>\n",
       "      <th>Embarked</th>\n",
       "    </tr>\n",
       "  </thead>\n",
       "  <tbody>\n",
       "    <tr>\n",
       "      <th>0</th>\n",
       "      <td>892</td>\n",
       "      <td>3</td>\n",
       "      <td>Kelly, Mr. James</td>\n",
       "      <td>male</td>\n",
       "      <td>34.5</td>\n",
       "      <td>0</td>\n",
       "      <td>0</td>\n",
       "      <td>330911</td>\n",
       "      <td>7.8292</td>\n",
       "      <td>NaN</td>\n",
       "      <td>Q</td>\n",
       "    </tr>\n",
       "    <tr>\n",
       "      <th>1</th>\n",
       "      <td>893</td>\n",
       "      <td>3</td>\n",
       "      <td>Wilkes, Mrs. James (Ellen Needs)</td>\n",
       "      <td>female</td>\n",
       "      <td>47.0</td>\n",
       "      <td>1</td>\n",
       "      <td>0</td>\n",
       "      <td>363272</td>\n",
       "      <td>7.0000</td>\n",
       "      <td>NaN</td>\n",
       "      <td>S</td>\n",
       "    </tr>\n",
       "    <tr>\n",
       "      <th>2</th>\n",
       "      <td>894</td>\n",
       "      <td>2</td>\n",
       "      <td>Myles, Mr. Thomas Francis</td>\n",
       "      <td>male</td>\n",
       "      <td>62.0</td>\n",
       "      <td>0</td>\n",
       "      <td>0</td>\n",
       "      <td>240276</td>\n",
       "      <td>9.6875</td>\n",
       "      <td>NaN</td>\n",
       "      <td>Q</td>\n",
       "    </tr>\n",
       "    <tr>\n",
       "      <th>3</th>\n",
       "      <td>895</td>\n",
       "      <td>3</td>\n",
       "      <td>Wirz, Mr. Albert</td>\n",
       "      <td>male</td>\n",
       "      <td>27.0</td>\n",
       "      <td>0</td>\n",
       "      <td>0</td>\n",
       "      <td>315154</td>\n",
       "      <td>8.6625</td>\n",
       "      <td>NaN</td>\n",
       "      <td>S</td>\n",
       "    </tr>\n",
       "    <tr>\n",
       "      <th>4</th>\n",
       "      <td>896</td>\n",
       "      <td>3</td>\n",
       "      <td>Hirvonen, Mrs. Alexander (Helga E Lindqvist)</td>\n",
       "      <td>female</td>\n",
       "      <td>22.0</td>\n",
       "      <td>1</td>\n",
       "      <td>1</td>\n",
       "      <td>3101298</td>\n",
       "      <td>12.2875</td>\n",
       "      <td>NaN</td>\n",
       "      <td>S</td>\n",
       "    </tr>\n",
       "  </tbody>\n",
       "</table>\n",
       "</div>"
      ],
      "text/plain": [
       "   PassengerId  Pclass                                          Name     Sex  \\\n",
       "0          892       3                              Kelly, Mr. James    male   \n",
       "1          893       3              Wilkes, Mrs. James (Ellen Needs)  female   \n",
       "2          894       2                     Myles, Mr. Thomas Francis    male   \n",
       "3          895       3                              Wirz, Mr. Albert    male   \n",
       "4          896       3  Hirvonen, Mrs. Alexander (Helga E Lindqvist)  female   \n",
       "\n",
       "    Age  SibSp  Parch   Ticket     Fare Cabin Embarked  \n",
       "0  34.5      0      0   330911   7.8292   NaN        Q  \n",
       "1  47.0      1      0   363272   7.0000   NaN        S  \n",
       "2  62.0      0      0   240276   9.6875   NaN        Q  \n",
       "3  27.0      0      0   315154   8.6625   NaN        S  \n",
       "4  22.0      1      1  3101298  12.2875   NaN        S  "
      ]
     },
     "execution_count": 268,
     "metadata": {},
     "output_type": "execute_result"
    }
   ],
   "source": [
    "# Inspect test data\n",
    "df_test.head()"
   ]
  },
  {
   "cell_type": "code",
   "execution_count": 269,
   "id": "1c46be6c",
   "metadata": {},
   "outputs": [
    {
     "data": {
      "text/plain": [
       "PassengerId    0.000000\n",
       "Pclass         0.000000\n",
       "Name           0.000000\n",
       "Sex            0.000000\n",
       "SibSp          0.000000\n",
       "Parch          0.000000\n",
       "Ticket         0.000000\n",
       "Embarked       0.000000\n",
       "Fare           0.002392\n",
       "Age            0.205742\n",
       "Cabin          0.782297\n",
       "dtype: float64"
      ]
     },
     "execution_count": 269,
     "metadata": {},
     "output_type": "execute_result"
    }
   ],
   "source": [
    "df_test.isnull().sum().sort_values() / len(df_test)"
   ]
  },
  {
   "cell_type": "code",
   "execution_count": 270,
   "id": "4fdd8ab0",
   "metadata": {},
   "outputs": [],
   "source": [
    "df_test['Age'].fillna(df_test['Age'].mean(), inplace = True)\n",
    "df_test['Fare'].fillna(df_test['Fare'].mean(), inplace = True)"
   ]
  },
  {
   "cell_type": "code",
   "execution_count": 271,
   "id": "6dab8e7b",
   "metadata": {},
   "outputs": [],
   "source": [
    "df_test['Sex'].replace(['female', 'male'], [0, 1], inplace = True)\n",
    "df_test['Embarked'].replace(['C', 'Q', 'S'], [0, 1, 2], inplace = True)"
   ]
  },
  {
   "cell_type": "code",
   "execution_count": 272,
   "id": "04b79fb3",
   "metadata": {},
   "outputs": [],
   "source": [
    "df_test.drop(['Name', 'Cabin', 'Ticket', 'Sex', 'Embarked'], axis = 1, inplace = True)"
   ]
  },
  {
   "cell_type": "code",
   "execution_count": 273,
   "id": "381eddcc",
   "metadata": {},
   "outputs": [
    {
     "data": {
      "text/plain": [
       "PassengerId    0.0\n",
       "Pclass         0.0\n",
       "Age            0.0\n",
       "SibSp          0.0\n",
       "Parch          0.0\n",
       "Fare           0.0\n",
       "dtype: float64"
      ]
     },
     "execution_count": 273,
     "metadata": {},
     "output_type": "execute_result"
    }
   ],
   "source": [
    "df_test.isnull().sum().sort_values() / len(df_test)"
   ]
  },
  {
   "cell_type": "code",
   "execution_count": 274,
   "id": "d1c12322",
   "metadata": {},
   "outputs": [
    {
     "data": {
      "text/plain": [
       "PassengerId      int64\n",
       "Pclass           int64\n",
       "Age            float64\n",
       "SibSp            int64\n",
       "Parch            int64\n",
       "Fare           float64\n",
       "dtype: object"
      ]
     },
     "execution_count": 274,
     "metadata": {},
     "output_type": "execute_result"
    }
   ],
   "source": [
    "df_test.dtypes"
   ]
  },
  {
   "cell_type": "code",
   "execution_count": 275,
   "id": "8ead552b",
   "metadata": {},
   "outputs": [
    {
     "data": {
      "text/html": [
       "<div>\n",
       "<style scoped>\n",
       "    .dataframe tbody tr th:only-of-type {\n",
       "        vertical-align: middle;\n",
       "    }\n",
       "\n",
       "    .dataframe tbody tr th {\n",
       "        vertical-align: top;\n",
       "    }\n",
       "\n",
       "    .dataframe thead th {\n",
       "        text-align: right;\n",
       "    }\n",
       "</style>\n",
       "<table border=\"1\" class=\"dataframe\">\n",
       "  <thead>\n",
       "    <tr style=\"text-align: right;\">\n",
       "      <th></th>\n",
       "      <th>PassengerId</th>\n",
       "      <th>Pclass</th>\n",
       "      <th>Age</th>\n",
       "      <th>SibSp</th>\n",
       "      <th>Parch</th>\n",
       "      <th>Fare</th>\n",
       "    </tr>\n",
       "  </thead>\n",
       "  <tbody>\n",
       "    <tr>\n",
       "      <th>0</th>\n",
       "      <td>892</td>\n",
       "      <td>3</td>\n",
       "      <td>34.5</td>\n",
       "      <td>0</td>\n",
       "      <td>0</td>\n",
       "      <td>7.8292</td>\n",
       "    </tr>\n",
       "    <tr>\n",
       "      <th>1</th>\n",
       "      <td>893</td>\n",
       "      <td>3</td>\n",
       "      <td>47.0</td>\n",
       "      <td>1</td>\n",
       "      <td>0</td>\n",
       "      <td>7.0000</td>\n",
       "    </tr>\n",
       "    <tr>\n",
       "      <th>2</th>\n",
       "      <td>894</td>\n",
       "      <td>2</td>\n",
       "      <td>62.0</td>\n",
       "      <td>0</td>\n",
       "      <td>0</td>\n",
       "      <td>9.6875</td>\n",
       "    </tr>\n",
       "    <tr>\n",
       "      <th>3</th>\n",
       "      <td>895</td>\n",
       "      <td>3</td>\n",
       "      <td>27.0</td>\n",
       "      <td>0</td>\n",
       "      <td>0</td>\n",
       "      <td>8.6625</td>\n",
       "    </tr>\n",
       "    <tr>\n",
       "      <th>4</th>\n",
       "      <td>896</td>\n",
       "      <td>3</td>\n",
       "      <td>22.0</td>\n",
       "      <td>1</td>\n",
       "      <td>1</td>\n",
       "      <td>12.2875</td>\n",
       "    </tr>\n",
       "  </tbody>\n",
       "</table>\n",
       "</div>"
      ],
      "text/plain": [
       "   PassengerId  Pclass   Age  SibSp  Parch     Fare\n",
       "0          892       3  34.5      0      0   7.8292\n",
       "1          893       3  47.0      1      0   7.0000\n",
       "2          894       2  62.0      0      0   9.6875\n",
       "3          895       3  27.0      0      0   8.6625\n",
       "4          896       3  22.0      1      1  12.2875"
      ]
     },
     "execution_count": 275,
     "metadata": {},
     "output_type": "execute_result"
    }
   ],
   "source": [
    "df_test.head()"
   ]
  },
  {
   "cell_type": "code",
   "execution_count": 276,
   "id": "3c45e586",
   "metadata": {},
   "outputs": [],
   "source": [
    "test_data = df_test.drop('PassengerId', axis = 1).to_numpy()"
   ]
  },
  {
   "cell_type": "code",
   "execution_count": 277,
   "id": "149d4979",
   "metadata": {},
   "outputs": [],
   "source": [
    "from sklearn.preprocessing import StandardScaler\n",
    "\n",
    "scaler = StandardScaler()\n",
    "\n",
    "scaler.fit(x_train)\n",
    "\n",
    "scaled_x_train = scaler.transform(x_train)\n",
    "scaled_test_data = scaler.transform(test_data)\n"
   ]
  },
  {
   "cell_type": "code",
   "execution_count": 278,
   "id": "65356ce2",
   "metadata": {},
   "outputs": [
    {
     "data": {
      "text/plain": [
       "(889, 5)"
      ]
     },
     "execution_count": 278,
     "metadata": {},
     "output_type": "execute_result"
    }
   ],
   "source": [
    "scaled_x_train.shape"
   ]
  },
  {
   "cell_type": "code",
   "execution_count": 279,
   "id": "e0fc4c2d",
   "metadata": {},
   "outputs": [
    {
     "data": {
      "text/plain": [
       "(889,)"
      ]
     },
     "execution_count": 279,
     "metadata": {},
     "output_type": "execute_result"
    }
   ],
   "source": [
    "y_train.shape"
   ]
  },
  {
   "cell_type": "code",
   "execution_count": 281,
   "id": "2bf43dd3",
   "metadata": {},
   "outputs": [],
   "source": [
    "from sklearn.linear_model import LogisticRegression\n",
    "\n",
    "logmodel=LogisticRegression()\n",
    "\n",
    "logmodel.fit(scaled_x_train, y_train)\n",
    "\n",
    "y_pred = logmodel.predict(scaled_test_data)"
   ]
  },
  {
   "cell_type": "code",
   "execution_count": 282,
   "id": "816a1465",
   "metadata": {},
   "outputs": [],
   "source": [
    "\n",
    "df_predictions = pd.DataFrame(y_pred.reshape(418,1).tolist(), columns=['Survived'], index=df_test['PassengerId'])\n",
    "\n",
    "df_predictions.to_csv('predictions_log.csv')"
   ]
  },
  {
   "cell_type": "code",
   "execution_count": 137,
   "id": "1c804575",
   "metadata": {},
   "outputs": [
    {
     "name": "stdout",
     "output_type": "stream",
     "text": [
      "Training set has 711 samples.\n",
      "Testing set has 178 samples.\n"
     ]
    }
   ],
   "source": [
    "# Import train_test_split\n",
    "from sklearn.model_selection import train_test_split\n",
    "\n",
    "# Split the 'features' and 'income' data into training and testing sets\n",
    "X_train, X_test, y_train, y_test = train_test_split(scaled_x_train, \n",
    "                                                    y_train, \n",
    "                                                    test_size = 0.2, \n",
    "                                                    random_state = 0)\n",
    "\n",
    "# Show the results of the split\n",
    "print(\"Training set has {} samples.\".format(X_train.shape[0]))\n",
    "print(\"Testing set has {} samples.\".format(X_test.shape[0]))"
   ]
  },
  {
   "cell_type": "code",
   "execution_count": 138,
   "id": "df2da406",
   "metadata": {},
   "outputs": [],
   "source": [
    "from sklearn.metrics import fbeta_score, accuracy_score\n",
    "from time import time\n",
    "\n",
    "def train_predict(learner, sample_size, X_train, y_train, X_test, y_test): \n",
    "    '''\n",
    "    inputs:\n",
    "       - learner: the learning algorithm to be trained and predicted on\n",
    "       - sample_size: the size of samples (number) to be drawn from training set\n",
    "       - X_train: features training set\n",
    "       - y_train: income training set\n",
    "       - X_test: features testing set\n",
    "       - y_test: income testing set\n",
    "    '''\n",
    "    \n",
    "    results = {}\n",
    "    \n",
    "    # TODO: Fit the learner to the training data using slicing with 'sample_size' using .fit(training_features[:], training_labels[:])\n",
    "    start = time() # Get start time\n",
    "    learner = learner.fit(X_train[:sample_size], y_train[:sample_size])\n",
    "    end = time() # Get end time\n",
    "    \n",
    "    # TODO: Calculate the training time\n",
    "    results['train_time'] = end - start\n",
    "        \n",
    "    # TODO: Get the predictions on the test set(X_test),\n",
    "    #       then get predictions on the first 300 training samples(X_train) using .predict()\n",
    "    start = time() # Get start time\n",
    "    predictions_test = learner.predict(X_test)\n",
    "    predictions_train = learner.predict(X_train)\n",
    "    end = time() # Get end time\n",
    "    \n",
    "    # TODO: Calculate the total prediction time\n",
    "    results['pred_time'] = end - start\n",
    "            \n",
    "    # TODO: Compute accuracy on the first 300 training samples which is y_train[:300]\n",
    "    results['acc_train'] = accuracy_score(y_train, predictions_train)\n",
    "        \n",
    "    # TODO: Compute accuracy on test set using accuracy_score()\n",
    "    results['acc_test'] = accuracy_score(y_test, predictions_test)\n",
    "    \n",
    "    # TODO: Compute F-score on the the first 300 training samples using fbeta_score()\n",
    "    results['f_train'] = fbeta_score(y_train, predictions_train, beta = 0.5)\n",
    "        \n",
    "    # TODO: Compute F-score on the test set which is y_test\n",
    "    results['f_test'] = fbeta_score(y_test, predictions_test, beta = 0.5)\n",
    "       \n",
    "    # Success\n",
    "    print(\"{} trained on {} samples.\".format(learner.__class__.__name__, sample_size))\n",
    "        \n",
    "    # Return the results\n",
    "    return results"
   ]
  },
  {
   "cell_type": "code",
   "execution_count": 139,
   "id": "a6ec8a2f",
   "metadata": {},
   "outputs": [
    {
     "name": "stdout",
     "output_type": "stream",
     "text": [
      "SVC trained on 711 samples.\n",
      "AdaBoostClassifier trained on 711 samples.\n",
      "LogisticRegression trained on 711 samples.\n"
     ]
    },
    {
     "data": {
      "text/plain": [
       "[{'train_time': 0.01690816879272461,\n",
       "  'pred_time': 0.020408153533935547,\n",
       "  'acc_train': 0.8607594936708861,\n",
       "  'acc_test': 0.7471910112359551,\n",
       "  'f_train': 0.8441558441558441,\n",
       "  'f_test': 0.7049180327868851},\n",
       " {'train_time': 0.03523707389831543,\n",
       "  'pred_time': 0.006052255630493164,\n",
       "  'acc_train': 0.8466947960618847,\n",
       "  'acc_test': 0.7303370786516854,\n",
       "  'f_train': 0.7943578322197477,\n",
       "  'f_test': 0.6744868035190614},\n",
       " {'train_time': 0.001483917236328125,\n",
       "  'pred_time': 6.794929504394531e-05,\n",
       "  'acc_train': 0.8227848101265823,\n",
       "  'acc_test': 0.7078651685393258,\n",
       "  'f_train': 0.7710464201416208,\n",
       "  'f_test': 0.6456456456456456}]"
      ]
     },
     "execution_count": 139,
     "metadata": {},
     "output_type": "execute_result"
    }
   ],
   "source": [
    "from sklearn.svm import SVC\n",
    "from sklearn.ensemble import AdaBoostClassifier\n",
    "from sklearn.linear_model import LogisticRegression\n",
    "\n",
    "# TODO: Initialize the three models\n",
    "clf_A = SVC(random_state = 42)\n",
    "clf_B = AdaBoostClassifier(random_state = 42)\n",
    "clf_C = LogisticRegression(random_state = 42)\n",
    "\n",
    "# TODO: Calculate the number of samples for 1%, 10%, and 100% of the training data\n",
    "# HINT: samples_100 is the entire training set i.e. len(y_train)\n",
    "# HINT: samples_10 is 10% of samples_100 (ensure to set the count of the values to be `int` and not `float`)\n",
    "# HINT: samples_1 is 1% of samples_100 (ensure to set the count of the values to be `int` and not `float`)\n",
    "samples = len(y_train)\n",
    "\n",
    "# Collect results on the learners\n",
    "results = []\n",
    "for clf in [clf_A, clf_B, clf_C]:\n",
    "    results.append(train_predict(clf, samples, X_train, y_train, X_test, y_test))\n",
    "\n",
    "# Run metrics visualization for the three supervised learning models chosen\n",
    "results"
   ]
  },
  {
   "cell_type": "code",
   "execution_count": 34,
   "id": "b30c44a6",
   "metadata": {},
   "outputs": [],
   "source": [
    "predictions = clf_B.predict(test)"
   ]
  },
  {
   "cell_type": "code",
   "execution_count": 35,
   "id": "30b07755",
   "metadata": {},
   "outputs": [],
   "source": [
    "df_predictions = pd.DataFrame(predictions, columns=['Survived'], index=df_test['PassengerId'])\n",
    "\n",
    "df_predictions.to_csv('predictions.csv')"
   ]
  },
  {
   "cell_type": "code",
   "execution_count": 36,
   "id": "88b2d337",
   "metadata": {},
   "outputs": [
    {
     "name": "stdout",
     "output_type": "stream",
     "text": [
      "Unoptimized model\n",
      "------\n",
      "Accuracy score on testing data: 0.7821\n",
      "F-score on testing data: 0.7207\n",
      "\n",
      "Optimized Model\n",
      "------\n",
      "Final accuracy score on the testing data: 0.7821\n",
      "Final F-score on the testing data: 0.7207\n"
     ]
    }
   ],
   "source": [
    "from sklearn.model_selection import GridSearchCV\n",
    "from sklearn.metrics import make_scorer\n",
    "from sklearn.tree import DecisionTreeClassifier\n",
    "\n",
    "clf = AdaBoostClassifier(base_estimator = DecisionTreeClassifier(), random_state = 42)\n",
    "\n",
    "parameters = {'base_estimator__max_depth': [5, 10, 25, 50, 100], 'n_estimators':[5, 10, 25, 50, 75, 100, 150]}\n",
    "\n",
    "scorer = make_scorer(fbeta_score, beta = 0.5)\n",
    "\n",
    "grid_obj = GridSearchCV(estimator = clf, param_grid = parameters, scoring = scorer)\n",
    "\n",
    "grid_fit = grid_obj.fit(X_train, y_train)\n",
    "\n",
    "best_clf = grid_fit.best_estimator_\n",
    "\n",
    "predictions = (clf.fit(X_train, y_train)).predict(X_test)\n",
    "best_predictions = best_clf.predict(X_test)\n",
    "\n",
    "# Report the before-and-afterscores\n",
    "print(\"Unoptimized model\\n------\")\n",
    "print(\"Accuracy score on testing data: {:.4f}\".format(accuracy_score(y_test, predictions)))\n",
    "print(\"F-score on testing data: {:.4f}\".format(fbeta_score(y_test, predictions, beta = 0.5)))\n",
    "print(\"\\nOptimized Model\\n------\")\n",
    "print(\"Final accuracy score on the testing data: {:.4f}\".format(accuracy_score(y_test, best_predictions)))\n",
    "print(\"Final F-score on the testing data: {:.4f}\".format(fbeta_score(y_test, best_predictions, beta = 0.5)))\n",
    "\n"
   ]
  },
  {
   "cell_type": "code",
   "execution_count": 37,
   "id": "1ed6d005",
   "metadata": {},
   "outputs": [
    {
     "name": "stdout",
     "output_type": "stream",
     "text": [
      "WARNING:tensorflow:From /var/folders/fx/4xk4qzyx6s184pwwl260p0gr0000gn/T/ipykernel_1626/2194413379.py:1: is_gpu_available (from tensorflow.python.framework.test_util) is deprecated and will be removed in a future version.\n",
      "Instructions for updating:\n",
      "Use `tf.config.list_physical_devices('GPU')` instead.\n",
      "Is there a GPU Available: True\n"
     ]
    },
    {
     "name": "stderr",
     "output_type": "stream",
     "text": [
      "2022-02-13 11:08:40.996098: I tensorflow/core/common_runtime/pluggable_device/pluggable_device_factory.cc:305] Could not identify NUMA node of platform GPU ID 0, defaulting to 0. Your kernel may not have been built with NUMA support.\n",
      "2022-02-13 11:08:40.996343: I tensorflow/core/common_runtime/pluggable_device/pluggable_device_factory.cc:271] Created TensorFlow device (/device:GPU:0 with 0 MB memory) -> physical PluggableDevice (device: 0, name: METAL, pci bus id: <undefined>)\n"
     ]
    },
    {
     "name": "stdout",
     "output_type": "stream",
     "text": [
      "Metal device set to: Apple M1 Pro\n"
     ]
    }
   ],
   "source": [
    "print('Is there a GPU Available:', tf.test.is_gpu_available())"
   ]
  },
  {
   "cell_type": "code",
   "execution_count": 38,
   "id": "b61d5180",
   "metadata": {},
   "outputs": [
    {
     "name": "stdout",
     "output_type": "stream",
     "text": [
      "Model: \"sequential\"\n",
      "_________________________________________________________________\n",
      " Layer (type)                Output Shape              Param #   \n",
      "=================================================================\n",
      " dense (Dense)               (None, 256)               2048      \n",
      "                                                                 \n",
      " dropout (Dropout)           (None, 256)               0         \n",
      "                                                                 \n",
      " dense_1 (Dense)             (None, 192)               49344     \n",
      "                                                                 \n",
      " dropout_1 (Dropout)         (None, 192)               0         \n",
      "                                                                 \n",
      " dense_2 (Dense)             (None, 128)               24704     \n",
      "                                                                 \n",
      " dense_3 (Dense)             (None, 1)                 129       \n",
      "                                                                 \n",
      "=================================================================\n",
      "Total params: 76,225\n",
      "Trainable params: 76,225\n",
      "Non-trainable params: 0\n",
      "_________________________________________________________________\n"
     ]
    },
    {
     "name": "stderr",
     "output_type": "stream",
     "text": [
      "2022-02-13 11:08:42.922234: I tensorflow/core/common_runtime/pluggable_device/pluggable_device_factory.cc:305] Could not identify NUMA node of platform GPU ID 0, defaulting to 0. Your kernel may not have been built with NUMA support.\n",
      "2022-02-13 11:08:42.922280: I tensorflow/core/common_runtime/pluggable_device/pluggable_device_factory.cc:271] Created TensorFlow device (/job:localhost/replica:0/task:0/device:GPU:0 with 0 MB memory) -> physical PluggableDevice (device: 0, name: METAL, pci bus id: <undefined>)\n"
     ]
    }
   ],
   "source": [
    "model = tf.keras.Sequential([\n",
    "    tf.keras.layers.InputLayer(input_shape=(7)),\n",
    "    tf.keras.layers.Dense(units=256, activation='relu'),\n",
    "    tf.keras.layers.Dropout(0.2),\n",
    "    tf.keras.layers.Dense(units=192, activation='relu'),\n",
    "    tf.keras.layers.Dropout(0.2),\n",
    "    tf.keras.layers.Dense(units=128, activation='relu'),\n",
    "    tf.keras.layers.Dense(1, activation='sigmoid')\n",
    "])\n",
    "model.summary()"
   ]
  },
  {
   "cell_type": "code",
   "execution_count": 39,
   "id": "47ddb0d3",
   "metadata": {},
   "outputs": [
    {
     "data": {
      "text/plain": [
       "(712, 7)"
      ]
     },
     "execution_count": 39,
     "metadata": {},
     "output_type": "execute_result"
    }
   ],
   "source": [
    "X_train.shape"
   ]
  },
  {
   "cell_type": "raw",
   "id": "317334b3",
   "metadata": {},
   "source": [
    "y_train.shape"
   ]
  },
  {
   "cell_type": "code",
   "execution_count": 40,
   "id": "ef77bc18",
   "metadata": {},
   "outputs": [
    {
     "name": "stdout",
     "output_type": "stream",
     "text": [
      "Epoch 1/100\n"
     ]
    },
    {
     "name": "stderr",
     "output_type": "stream",
     "text": [
      "2022-02-13 11:08:48.503431: W tensorflow/core/platform/profile_utils/cpu_utils.cc:128] Failed to get CPU frequency: 0 Hz\n"
     ]
    },
    {
     "name": "stdout",
     "output_type": "stream",
     "text": [
      "\r",
      " 1/23 [>.............................] - ETA: 9s - loss: 0.6986 - accuracy: 0.5000"
     ]
    },
    {
     "name": "stderr",
     "output_type": "stream",
     "text": [
      "2022-02-13 11:08:48.769795: I tensorflow/core/grappler/optimizers/custom_graph_optimizer_registry.cc:113] Plugin optimizer for device_type GPU is enabled.\n"
     ]
    },
    {
     "name": "stdout",
     "output_type": "stream",
     "text": [
      "23/23 [==============================] - 1s 8ms/step - loss: 0.5464 - accuracy: 0.7500\n",
      "Epoch 2/100\n",
      "23/23 [==============================] - 0s 7ms/step - loss: 0.4624 - accuracy: 0.8006\n",
      "Epoch 3/100\n",
      "23/23 [==============================] - 0s 7ms/step - loss: 0.4461 - accuracy: 0.8090\n",
      "Epoch 4/100\n",
      "23/23 [==============================] - 0s 7ms/step - loss: 0.4356 - accuracy: 0.8202\n",
      "Epoch 5/100\n",
      "23/23 [==============================] - 0s 7ms/step - loss: 0.4167 - accuracy: 0.8287\n",
      "Epoch 6/100\n",
      "23/23 [==============================] - 0s 6ms/step - loss: 0.4201 - accuracy: 0.8230\n",
      "Epoch 7/100\n",
      "23/23 [==============================] - 0s 7ms/step - loss: 0.4097 - accuracy: 0.8357\n",
      "Epoch 8/100\n",
      "23/23 [==============================] - 0s 7ms/step - loss: 0.4054 - accuracy: 0.8413\n",
      "Epoch 9/100\n",
      "23/23 [==============================] - 0s 6ms/step - loss: 0.4079 - accuracy: 0.8301\n",
      "Epoch 10/100\n",
      "23/23 [==============================] - 0s 7ms/step - loss: 0.4123 - accuracy: 0.8287\n",
      "Epoch 11/100\n",
      "23/23 [==============================] - 0s 6ms/step - loss: 0.3958 - accuracy: 0.8483\n",
      "Epoch 12/100\n",
      "23/23 [==============================] - 0s 6ms/step - loss: 0.3920 - accuracy: 0.8385\n",
      "Epoch 13/100\n",
      "23/23 [==============================] - 0s 6ms/step - loss: 0.3998 - accuracy: 0.8371\n",
      "Epoch 14/100\n",
      "23/23 [==============================] - 0s 6ms/step - loss: 0.3835 - accuracy: 0.8483\n",
      "Epoch 15/100\n",
      "23/23 [==============================] - 0s 6ms/step - loss: 0.3921 - accuracy: 0.8441\n",
      "Epoch 16/100\n",
      "23/23 [==============================] - 0s 6ms/step - loss: 0.3799 - accuracy: 0.8427\n",
      "Epoch 17/100\n",
      "23/23 [==============================] - 0s 6ms/step - loss: 0.3824 - accuracy: 0.8399\n",
      "Epoch 18/100\n",
      "23/23 [==============================] - 0s 6ms/step - loss: 0.3840 - accuracy: 0.8469\n",
      "Epoch 19/100\n",
      "23/23 [==============================] - 0s 6ms/step - loss: 0.3739 - accuracy: 0.8525\n",
      "Epoch 20/100\n",
      "23/23 [==============================] - 0s 6ms/step - loss: 0.3666 - accuracy: 0.8539\n",
      "Epoch 21/100\n",
      "23/23 [==============================] - 0s 6ms/step - loss: 0.3702 - accuracy: 0.8483\n",
      "Epoch 22/100\n",
      "23/23 [==============================] - 0s 6ms/step - loss: 0.3721 - accuracy: 0.8525\n",
      "Epoch 23/100\n",
      "23/23 [==============================] - 0s 6ms/step - loss: 0.3621 - accuracy: 0.8497\n",
      "Epoch 24/100\n",
      "23/23 [==============================] - 0s 6ms/step - loss: 0.3502 - accuracy: 0.8596\n",
      "Epoch 25/100\n",
      "23/23 [==============================] - 0s 6ms/step - loss: 0.3673 - accuracy: 0.8553\n",
      "Epoch 26/100\n",
      "23/23 [==============================] - 0s 6ms/step - loss: 0.3702 - accuracy: 0.8483\n",
      "Epoch 27/100\n",
      "23/23 [==============================] - 0s 6ms/step - loss: 0.3600 - accuracy: 0.8483\n",
      "Epoch 28/100\n",
      "23/23 [==============================] - 0s 7ms/step - loss: 0.3597 - accuracy: 0.8483\n",
      "Epoch 29/100\n",
      "23/23 [==============================] - 0s 7ms/step - loss: 0.3498 - accuracy: 0.8567\n",
      "Epoch 30/100\n",
      "23/23 [==============================] - 0s 6ms/step - loss: 0.3480 - accuracy: 0.8567\n",
      "Epoch 31/100\n",
      "23/23 [==============================] - 0s 6ms/step - loss: 0.3437 - accuracy: 0.8539\n",
      "Epoch 32/100\n",
      "23/23 [==============================] - 0s 7ms/step - loss: 0.3569 - accuracy: 0.8497\n",
      "Epoch 33/100\n",
      "23/23 [==============================] - 0s 7ms/step - loss: 0.3563 - accuracy: 0.8539\n",
      "Epoch 34/100\n",
      "23/23 [==============================] - 0s 6ms/step - loss: 0.3489 - accuracy: 0.8596\n",
      "Epoch 35/100\n",
      "23/23 [==============================] - 0s 6ms/step - loss: 0.3358 - accuracy: 0.8567\n",
      "Epoch 36/100\n",
      "23/23 [==============================] - 0s 6ms/step - loss: 0.3402 - accuracy: 0.8694\n",
      "Epoch 37/100\n",
      "23/23 [==============================] - 0s 6ms/step - loss: 0.3532 - accuracy: 0.8455\n",
      "Epoch 38/100\n",
      "23/23 [==============================] - 0s 6ms/step - loss: 0.3539 - accuracy: 0.8455\n",
      "Epoch 39/100\n",
      "23/23 [==============================] - 0s 7ms/step - loss: 0.3351 - accuracy: 0.8736\n",
      "Epoch 40/100\n",
      "23/23 [==============================] - 0s 7ms/step - loss: 0.3519 - accuracy: 0.8581\n",
      "Epoch 41/100\n",
      "23/23 [==============================] - 0s 6ms/step - loss: 0.3380 - accuracy: 0.8596\n",
      "Epoch 42/100\n",
      "23/23 [==============================] - 0s 6ms/step - loss: 0.3267 - accuracy: 0.8581\n",
      "Epoch 43/100\n",
      "23/23 [==============================] - 0s 6ms/step - loss: 0.3281 - accuracy: 0.8680\n",
      "Epoch 44/100\n",
      "23/23 [==============================] - 0s 6ms/step - loss: 0.3267 - accuracy: 0.8624\n",
      "Epoch 45/100\n",
      "23/23 [==============================] - 0s 6ms/step - loss: 0.3353 - accuracy: 0.8624\n",
      "Epoch 46/100\n",
      "23/23 [==============================] - 0s 6ms/step - loss: 0.3500 - accuracy: 0.8511\n",
      "Epoch 47/100\n",
      "23/23 [==============================] - 0s 6ms/step - loss: 0.3234 - accuracy: 0.8624\n",
      "Epoch 48/100\n",
      "23/23 [==============================] - 0s 7ms/step - loss: 0.3276 - accuracy: 0.8638\n",
      "Epoch 49/100\n",
      "23/23 [==============================] - 0s 6ms/step - loss: 0.3200 - accuracy: 0.8666\n",
      "Epoch 50/100\n",
      "23/23 [==============================] - 0s 6ms/step - loss: 0.3279 - accuracy: 0.8736\n",
      "Epoch 51/100\n",
      "23/23 [==============================] - 0s 6ms/step - loss: 0.3256 - accuracy: 0.8778\n",
      "Epoch 52/100\n",
      "23/23 [==============================] - 0s 6ms/step - loss: 0.3338 - accuracy: 0.8596\n",
      "Epoch 53/100\n",
      "23/23 [==============================] - 0s 6ms/step - loss: 0.3225 - accuracy: 0.8638\n",
      "Epoch 54/100\n",
      "23/23 [==============================] - 0s 6ms/step - loss: 0.3176 - accuracy: 0.8722\n",
      "Epoch 55/100\n",
      "23/23 [==============================] - 0s 6ms/step - loss: 0.3158 - accuracy: 0.8708\n",
      "Epoch 56/100\n",
      "23/23 [==============================] - 0s 6ms/step - loss: 0.3218 - accuracy: 0.8610\n",
      "Epoch 57/100\n",
      "23/23 [==============================] - 0s 6ms/step - loss: 0.3173 - accuracy: 0.8624\n",
      "Epoch 58/100\n",
      "23/23 [==============================] - 0s 7ms/step - loss: 0.3173 - accuracy: 0.8708\n",
      "Epoch 59/100\n",
      "23/23 [==============================] - 0s 7ms/step - loss: 0.3239 - accuracy: 0.8736\n",
      "Epoch 60/100\n",
      "23/23 [==============================] - 0s 7ms/step - loss: 0.3256 - accuracy: 0.8764\n",
      "Epoch 61/100\n",
      "23/23 [==============================] - 0s 7ms/step - loss: 0.3087 - accuracy: 0.8778\n",
      "Epoch 62/100\n",
      "23/23 [==============================] - 0s 7ms/step - loss: 0.3051 - accuracy: 0.8778\n",
      "Epoch 63/100\n",
      "23/23 [==============================] - 0s 7ms/step - loss: 0.3101 - accuracy: 0.8778\n",
      "Epoch 64/100\n",
      "23/23 [==============================] - 0s 7ms/step - loss: 0.3130 - accuracy: 0.8652\n",
      "Epoch 65/100\n",
      "23/23 [==============================] - 0s 7ms/step - loss: 0.3163 - accuracy: 0.8610\n",
      "Epoch 66/100\n",
      "23/23 [==============================] - 0s 7ms/step - loss: 0.3215 - accuracy: 0.8722\n",
      "Epoch 67/100\n",
      "23/23 [==============================] - 0s 7ms/step - loss: 0.3277 - accuracy: 0.8764\n",
      "Epoch 68/100\n",
      "23/23 [==============================] - 0s 6ms/step - loss: 0.3235 - accuracy: 0.8750\n",
      "Epoch 69/100\n",
      "23/23 [==============================] - 0s 6ms/step - loss: 0.3241 - accuracy: 0.8666\n",
      "Epoch 70/100\n",
      "23/23 [==============================] - 0s 6ms/step - loss: 0.3135 - accuracy: 0.8736\n",
      "Epoch 71/100\n",
      "23/23 [==============================] - 0s 6ms/step - loss: 0.3128 - accuracy: 0.8708\n",
      "Epoch 72/100\n",
      "23/23 [==============================] - 0s 6ms/step - loss: 0.3001 - accuracy: 0.8722\n",
      "Epoch 73/100\n",
      "23/23 [==============================] - 0s 6ms/step - loss: 0.3102 - accuracy: 0.8722\n",
      "Epoch 74/100\n",
      "23/23 [==============================] - 0s 6ms/step - loss: 0.3044 - accuracy: 0.8750\n",
      "Epoch 75/100\n",
      "23/23 [==============================] - 0s 6ms/step - loss: 0.3156 - accuracy: 0.8680\n",
      "Epoch 76/100\n",
      "23/23 [==============================] - 0s 6ms/step - loss: 0.3017 - accuracy: 0.8722\n",
      "Epoch 77/100\n",
      "23/23 [==============================] - 0s 6ms/step - loss: 0.2959 - accuracy: 0.8806\n",
      "Epoch 78/100\n",
      "23/23 [==============================] - 0s 7ms/step - loss: 0.3034 - accuracy: 0.8764\n",
      "Epoch 79/100\n",
      "23/23 [==============================] - 0s 7ms/step - loss: 0.2938 - accuracy: 0.8778\n",
      "Epoch 80/100\n",
      "23/23 [==============================] - 0s 7ms/step - loss: 0.2995 - accuracy: 0.8764\n",
      "Epoch 81/100\n",
      "23/23 [==============================] - 0s 6ms/step - loss: 0.3061 - accuracy: 0.8750\n",
      "Epoch 82/100\n",
      "23/23 [==============================] - 0s 6ms/step - loss: 0.3063 - accuracy: 0.8736\n",
      "Epoch 83/100\n",
      "23/23 [==============================] - 0s 8ms/step - loss: 0.2988 - accuracy: 0.8750\n",
      "Epoch 84/100\n",
      "23/23 [==============================] - 0s 6ms/step - loss: 0.3011 - accuracy: 0.8792\n",
      "Epoch 85/100\n",
      "23/23 [==============================] - 0s 7ms/step - loss: 0.2916 - accuracy: 0.8848\n",
      "Epoch 86/100\n",
      "23/23 [==============================] - 0s 6ms/step - loss: 0.2868 - accuracy: 0.8862\n",
      "Epoch 87/100\n",
      "23/23 [==============================] - 0s 6ms/step - loss: 0.3032 - accuracy: 0.8778\n",
      "Epoch 88/100\n",
      "23/23 [==============================] - 0s 6ms/step - loss: 0.2878 - accuracy: 0.8933\n",
      "Epoch 89/100\n",
      "23/23 [==============================] - 0s 6ms/step - loss: 0.2858 - accuracy: 0.8848\n",
      "Epoch 90/100\n",
      "23/23 [==============================] - 0s 6ms/step - loss: 0.3108 - accuracy: 0.8736\n",
      "Epoch 91/100\n",
      "23/23 [==============================] - 0s 7ms/step - loss: 0.3025 - accuracy: 0.8764\n",
      "Epoch 92/100\n",
      "23/23 [==============================] - 0s 6ms/step - loss: 0.2917 - accuracy: 0.8778\n",
      "Epoch 93/100\n",
      "23/23 [==============================] - 0s 6ms/step - loss: 0.2964 - accuracy: 0.8792\n",
      "Epoch 94/100\n",
      "23/23 [==============================] - 0s 6ms/step - loss: 0.2879 - accuracy: 0.8764\n",
      "Epoch 95/100\n",
      "23/23 [==============================] - 0s 6ms/step - loss: 0.2867 - accuracy: 0.8834\n",
      "Epoch 96/100\n",
      "23/23 [==============================] - 0s 7ms/step - loss: 0.2912 - accuracy: 0.8820\n",
      "Epoch 97/100\n",
      "23/23 [==============================] - 0s 6ms/step - loss: 0.2817 - accuracy: 0.8806\n",
      "Epoch 98/100\n",
      "23/23 [==============================] - 0s 6ms/step - loss: 0.3005 - accuracy: 0.8820\n",
      "Epoch 99/100\n",
      "23/23 [==============================] - 0s 6ms/step - loss: 0.2895 - accuracy: 0.8820\n",
      "Epoch 100/100\n",
      "23/23 [==============================] - 0s 7ms/step - loss: 0.2870 - accuracy: 0.8820\n"
     ]
    }
   ],
   "source": [
    "model.compile(optimizer='adam',\n",
    "              loss='binary_crossentropy',\n",
    "              metrics=['accuracy'])\n",
    "\n",
    "EPOCHS = 10\n",
    "\n",
    "history = model.fit(X_train, y_train, epochs = 100)"
   ]
  },
  {
   "cell_type": "code",
   "execution_count": null,
   "id": "935476d0",
   "metadata": {},
   "outputs": [
    {
     "name": "stdout",
     "output_type": "stream",
     "text": [
      "Epoch 1/100\n",
      "23/23 [==============================] - 0s 7ms/step - loss: 0.2536 - accuracy: 0.8919\n",
      "Epoch 2/100\n",
      "23/23 [==============================] - 0s 6ms/step - loss: 0.2443 - accuracy: 0.9059\n",
      "Epoch 3/100\n",
      "23/23 [==============================] - 0s 6ms/step - loss: 0.2526 - accuracy: 0.8961\n",
      "Epoch 4/100\n",
      "23/23 [==============================] - 0s 6ms/step - loss: 0.2604 - accuracy: 0.8989\n",
      "Epoch 5/100\n",
      "23/23 [==============================] - 0s 6ms/step - loss: 0.2441 - accuracy: 0.8961\n",
      "Epoch 6/100\n",
      "23/23 [==============================] - 0s 7ms/step - loss: 0.2507 - accuracy: 0.8961\n",
      "Epoch 7/100\n",
      "23/23 [==============================] - 0s 6ms/step - loss: 0.2515 - accuracy: 0.8989\n",
      "Epoch 8/100\n",
      "23/23 [==============================] - 0s 6ms/step - loss: 0.2447 - accuracy: 0.8989\n",
      "Epoch 9/100\n",
      "23/23 [==============================] - 0s 6ms/step - loss: 0.2521 - accuracy: 0.8919\n",
      "Epoch 10/100\n",
      "23/23 [==============================] - 0s 6ms/step - loss: 0.2461 - accuracy: 0.8961\n",
      "Epoch 11/100\n",
      "23/23 [==============================] - 0s 6ms/step - loss: 0.2604 - accuracy: 0.8975\n",
      "Epoch 12/100\n",
      "23/23 [==============================] - 0s 6ms/step - loss: 0.2484 - accuracy: 0.9045\n",
      "Epoch 13/100\n",
      "23/23 [==============================] - 0s 6ms/step - loss: 0.2720 - accuracy: 0.8862\n",
      "Epoch 14/100\n",
      "23/23 [==============================] - 0s 6ms/step - loss: 0.2443 - accuracy: 0.9017\n",
      "Epoch 15/100\n",
      "23/23 [==============================] - 0s 7ms/step - loss: 0.2495 - accuracy: 0.8989\n",
      "Epoch 16/100\n",
      "23/23 [==============================] - 0s 6ms/step - loss: 0.2397 - accuracy: 0.8919\n",
      "Epoch 17/100\n",
      "23/23 [==============================] - 0s 6ms/step - loss: 0.2486 - accuracy: 0.8947\n",
      "Epoch 18/100\n",
      "23/23 [==============================] - 0s 7ms/step - loss: 0.2385 - accuracy: 0.9045\n",
      "Epoch 19/100\n",
      "23/23 [==============================] - 0s 7ms/step - loss: 0.2443 - accuracy: 0.8975\n",
      "Epoch 20/100\n",
      "23/23 [==============================] - 0s 6ms/step - loss: 0.2452 - accuracy: 0.8961\n",
      "Epoch 21/100\n",
      "23/23 [==============================] - 0s 7ms/step - loss: 0.2515 - accuracy: 0.8933\n",
      "Epoch 22/100\n",
      "23/23 [==============================] - 0s 7ms/step - loss: 0.2410 - accuracy: 0.9045\n",
      "Epoch 23/100\n",
      "23/23 [==============================] - 0s 6ms/step - loss: 0.2370 - accuracy: 0.9031\n",
      "Epoch 24/100\n",
      "23/23 [==============================] - 0s 6ms/step - loss: 0.2429 - accuracy: 0.9003\n",
      "Epoch 25/100\n",
      "23/23 [==============================] - 0s 6ms/step - loss: 0.2418 - accuracy: 0.8989\n",
      "Epoch 26/100\n",
      "23/23 [==============================] - 0s 7ms/step - loss: 0.2350 - accuracy: 0.9031\n",
      "Epoch 27/100\n",
      "23/23 [==============================] - 0s 7ms/step - loss: 0.2399 - accuracy: 0.9059\n",
      "Epoch 28/100\n",
      "23/23 [==============================] - 0s 6ms/step - loss: 0.2383 - accuracy: 0.9087\n",
      "Epoch 29/100\n",
      "23/23 [==============================] - 0s 7ms/step - loss: 0.2531 - accuracy: 0.8961\n",
      "Epoch 30/100\n",
      " 1/23 [>.............................] - ETA: 0s - loss: 0.2210 - accuracy: 0.9062"
     ]
    }
   ],
   "source": [
    "history = model.fit(X_train, y_train, epochs = 100)"
   ]
  },
  {
   "cell_type": "code",
   "execution_count": 42,
   "id": "3dbf2758",
   "metadata": {},
   "outputs": [
    {
     "name": "stdout",
     "output_type": "stream",
     "text": [
      "6/6 [==============================] - 0s 7ms/step - loss: 0.8500 - accuracy: 0.7933\n"
     ]
    },
    {
     "name": "stderr",
     "output_type": "stream",
     "text": [
      "2022-02-13 11:09:37.680578: I tensorflow/core/grappler/optimizers/custom_graph_optimizer_registry.cc:113] Plugin optimizer for device_type GPU is enabled.\n"
     ]
    },
    {
     "data": {
      "text/plain": [
       "[0.8499911427497864, 0.7932961583137512]"
      ]
     },
     "execution_count": 42,
     "metadata": {},
     "output_type": "execute_result"
    }
   ],
   "source": [
    "model.evaluate(X_test, y_test)"
   ]
  },
  {
   "cell_type": "code",
   "execution_count": null,
   "id": "894e91c7",
   "metadata": {},
   "outputs": [],
   "source": [
    "predictions_nn = model.predict(test)"
   ]
  },
  {
   "cell_type": "code",
   "execution_count": null,
   "id": "44bd198a",
   "metadata": {},
   "outputs": [],
   "source": [
    "predictions_nn"
   ]
  },
  {
   "cell_type": "code",
   "execution_count": null,
   "id": "eaebb0a1",
   "metadata": {},
   "outputs": [],
   "source": [
    "predictions_nn_0_1 = map(lambda x: 0 if x <= 0.5 else 1, predictions_nn)"
   ]
  },
  {
   "cell_type": "code",
   "execution_count": null,
   "id": "451bec97",
   "metadata": {},
   "outputs": [],
   "source": [
    "df_predictions_nn = pd.DataFrame(predictions_nn_0_1, columns=['Survived'], index=df_test['PassengerId'])\n",
    "\n",
    "df_predictions_nn.to_csv('predictions_nn.csv')"
   ]
  },
  {
   "cell_type": "code",
   "execution_count": null,
   "id": "266cb6d5",
   "metadata": {},
   "outputs": [],
   "source": []
  },
  {
   "cell_type": "code",
   "execution_count": null,
   "id": "3a59c02f",
   "metadata": {},
   "outputs": [],
   "source": []
  },
  {
   "cell_type": "code",
   "execution_count": null,
   "id": "9e992068",
   "metadata": {},
   "outputs": [],
   "source": []
  }
 ],
 "metadata": {
  "kernelspec": {
   "display_name": "Python 3 (ipykernel)",
   "language": "python",
   "name": "python3"
  },
  "language_info": {
   "codemirror_mode": {
    "name": "ipython",
    "version": 3
   },
   "file_extension": ".py",
   "mimetype": "text/x-python",
   "name": "python",
   "nbconvert_exporter": "python",
   "pygments_lexer": "ipython3",
   "version": "3.8.12"
  }
 },
 "nbformat": 4,
 "nbformat_minor": 5
}
